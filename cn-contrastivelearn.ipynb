{
 "cells": [
  {
   "cell_type": "code",
   "execution_count": 1,
   "id": "4d096fed",
   "metadata": {
    "_cell_guid": "b1076dfc-b9ad-4769-8c92-a6c4dae69d19",
    "_uuid": "8f2839f25d086af736a60e9eeb907d3b93b6e0e5",
    "execution": {
     "iopub.execute_input": "2025-07-24T06:53:38.059679Z",
     "iopub.status.busy": "2025-07-24T06:53:38.059356Z",
     "iopub.status.idle": "2025-07-24T06:53:40.348568Z",
     "shell.execute_reply": "2025-07-24T06:53:40.347203Z"
    },
    "papermill": {
     "duration": 2.295966,
     "end_time": "2025-07-24T06:53:40.350222",
     "exception": false,
     "start_time": "2025-07-24T06:53:38.054256",
     "status": "completed"
    },
    "tags": []
   },
   "outputs": [
    {
     "name": "stdout",
     "output_type": "stream",
     "text": [
      "/kaggle/input/nf-ton-iotv1/NetFlow_v1_Features.csv\n",
      "/kaggle/input/nf-ton-iotv1/NF-ToN-IoT.csv\n"
     ]
    }
   ],
   "source": [
    "# This Python 3 environment comes with many helpful analytics libraries installed\n",
    "# It is defined by the kaggle/python Docker image: https://github.com/kaggle/docker-python\n",
    "# For example, here's several helpful packages to load\n",
    "\n",
    "import numpy as np # linear algebra\n",
    "import pandas as pd # data processing, CSV file I/O (e.g. pd.read_csv)\n",
    "\n",
    "# Input data files are available in the read-only \"../input/\" directory\n",
    "# For example, running this (by clicking run or pressing Shift+Enter) will list all files under the input directory\n",
    "\n",
    "import os\n",
    "for dirname, _, filenames in os.walk('/kaggle/input'):\n",
    "    for filename in filenames:\n",
    "        print(os.path.join(dirname, filename))\n",
    "\n",
    "# You can write up to 20GB to the current directory (/kaggle/working/) that gets preserved as output when you create a version using \"Save & Run All\" \n",
    "# You can also write temporary files to /kaggle/temp/, but they won't be saved outside of the current session"
   ]
  },
  {
   "cell_type": "code",
   "execution_count": 2,
   "id": "485eeb4f",
   "metadata": {
    "execution": {
     "iopub.execute_input": "2025-07-24T06:53:40.358039Z",
     "iopub.status.busy": "2025-07-24T06:53:40.357624Z",
     "iopub.status.idle": "2025-07-24T06:53:49.809431Z",
     "shell.execute_reply": "2025-07-24T06:53:49.808007Z"
    },
    "papermill": {
     "duration": 9.457444,
     "end_time": "2025-07-24T06:53:49.811244",
     "exception": false,
     "start_time": "2025-07-24T06:53:40.353800",
     "status": "completed"
    },
    "tags": []
   },
   "outputs": [],
   "source": [
    "import pandas as pd\n",
    "import numpy as np\n",
    "import matplotlib.pyplot as plt\n",
    "import seaborn as sns\n",
    "\n",
    "from sklearn.preprocessing import LabelEncoder, StandardScaler\n",
    "from sklearn.model_selection import train_test_split\n",
    "from sklearn.metrics import classification_report, confusion_matrix\n",
    "\n",
    "from lightgbm import LGBMClassifier"
   ]
  },
  {
   "cell_type": "code",
   "execution_count": 3,
   "id": "f29503f4",
   "metadata": {
    "execution": {
     "iopub.execute_input": "2025-07-24T06:53:49.824069Z",
     "iopub.status.busy": "2025-07-24T06:53:49.822177Z",
     "iopub.status.idle": "2025-07-24T06:53:52.901206Z",
     "shell.execute_reply": "2025-07-24T06:53:52.899855Z"
    },
    "papermill": {
     "duration": 3.087161,
     "end_time": "2025-07-24T06:53:52.902987",
     "exception": false,
     "start_time": "2025-07-24T06:53:49.815826",
     "status": "completed"
    },
    "tags": []
   },
   "outputs": [],
   "source": [
    "import pandas as pd\n",
    "import numpy as np\n",
    "from sklearn.preprocessing import LabelEncoder, StandardScaler\n",
    "from sklearn.model_selection import train_test_split\n",
    "\n",
    "# Load dataset\n",
    "df = pd.read_csv('/kaggle/input/nf-ton-iotv1/NF-ToN-IoT.csv')"
   ]
  },
  {
   "cell_type": "code",
   "execution_count": 4,
   "id": "b973df9a",
   "metadata": {
    "execution": {
     "iopub.execute_input": "2025-07-24T06:53:52.910762Z",
     "iopub.status.busy": "2025-07-24T06:53:52.910411Z",
     "iopub.status.idle": "2025-07-24T06:53:53.592656Z",
     "shell.execute_reply": "2025-07-24T06:53:53.591088Z"
    },
    "papermill": {
     "duration": 0.688486,
     "end_time": "2025-07-24T06:53:53.594647",
     "exception": false,
     "start_time": "2025-07-24T06:53:52.906161",
     "status": "completed"
    },
    "tags": []
   },
   "outputs": [],
   "source": [
    "import pandas as pd\n",
    "import numpy as np\n",
    "from sklearn.preprocessing import LabelEncoder, StandardScaler\n",
    "from sklearn.model_selection import train_test_split\n",
    "\n",
    "# Drop unnamed index columns if present\n",
    "df.drop(columns=[col for col in df.columns if 'unnamed' in col.lower()], inplace=True)\n",
    "\n",
    "# Drop completely null columns\n",
    "df.dropna(axis=1, how='all', inplace=True)\n",
    "\n",
    "# Drop rows with missing values (can replace with imputation if needed)\n",
    "df.dropna(inplace=True)\n",
    "\n",
    "# Reset index after dropping rows\n",
    "df.reset_index(drop=True, inplace=True)"
   ]
  },
  {
   "cell_type": "code",
   "execution_count": 5,
   "id": "3a01c791",
   "metadata": {
    "execution": {
     "iopub.execute_input": "2025-07-24T06:53:53.604930Z",
     "iopub.status.busy": "2025-07-24T06:53:53.603530Z",
     "iopub.status.idle": "2025-07-24T06:54:00.904217Z",
     "shell.execute_reply": "2025-07-24T06:54:00.903189Z"
    },
    "papermill": {
     "duration": 7.308097,
     "end_time": "2025-07-24T06:54:00.906747",
     "exception": false,
     "start_time": "2025-07-24T06:53:53.598650",
     "status": "completed"
    },
    "tags": []
   },
   "outputs": [
    {
     "name": "stdout",
     "output_type": "stream",
     "text": [
      "Attack classes: ['Benign' 'backdoor' 'ddos' 'dos' 'injection' 'mitm' 'password'\n",
      " 'ransomware' 'scanning' 'xss']\n",
      "Removed 576759 duplicate samples from original data\n",
      "\n",
      "After deduplication and stratified split:\n",
      "Train class distribution: [158759  13775  84916  12016 356509    635      0    114  15288]\n",
      "Test class distribution: [39690  3444 21229  3004 89127   159     0    28  3822]\n",
      "\n",
      "Number of overlapping samples after cleaning: 0\n"
     ]
    }
   ],
   "source": [
    "# Encode attack types (multiclass) from 'attack' column\n",
    "le = LabelEncoder()\n",
    "df['encoded_attack'] = le.fit_transform(df['Attack'])\n",
    "attack_class_names = le.classes_\n",
    "print(\"Attack classes:\", attack_class_names)\n",
    "\n",
    "# Drop non-feature columns \n",
    "non_features = ['Label', 'Flow_ID', 'Source_IP', 'Destination_IP', 'Timestamp', 'attack', 'encoded_attack']\n",
    "features = df.drop(columns=non_features, errors='ignore')\n",
    "\n",
    "# Select numeric features only\n",
    "features = features.select_dtypes(include=[np.number])\n",
    "\n",
    "# Standardize features\n",
    "scaler = StandardScaler()\n",
    "X = scaler.fit_transform(features)\n",
    "\n",
    "# Multiclass target for attack classification\n",
    "y_multiclass = df['encoded_attack'].values\n",
    "\n",
    "# Deduplicate dataset based on features and target\n",
    "X_unique, unique_indices = np.unique(X, axis=0, return_index=True)\n",
    "y_unique = y_multiclass[unique_indices]\n",
    "\n",
    "print(f\"Removed {len(X) - len(X_unique)} duplicate samples from original data\")\n",
    "\n",
    "# Stratified train-test split on deduplicated data with multiclass labels\n",
    "X_train, X_test, y_train, y_test = train_test_split(\n",
    "    X_unique, y_unique,\n",
    "    test_size=0.2,\n",
    "    random_state=42,\n",
    "    stratify=y_unique\n",
    ")\n",
    "\n",
    "# Verify class distributions after split\n",
    "print(\"\\nAfter deduplication and stratified split:\")\n",
    "print(\"Train class distribution:\", np.bincount(y_train))\n",
    "print(\"Test class distribution:\", np.bincount(y_test))\n",
    "\n",
    "# Final leakage check: ensure no overlapping samples between train and test\n",
    "train_tuples = {tuple(row) for row in X_train}\n",
    "test_tuples = {tuple(row) for row in X_test}\n",
    "common_samples = train_tuples.intersection(test_tuples)\n",
    "print(f\"\\nNumber of overlapping samples after cleaning: {len(common_samples)}\")\n",
    "assert len(common_samples) == 0, \"Data leakage detected!\""
   ]
  },
  {
   "cell_type": "code",
   "execution_count": 6,
   "id": "773fda55",
   "metadata": {
    "execution": {
     "iopub.execute_input": "2025-07-24T06:54:00.914710Z",
     "iopub.status.busy": "2025-07-24T06:54:00.914374Z",
     "iopub.status.idle": "2025-07-24T06:54:06.991336Z",
     "shell.execute_reply": "2025-07-24T06:54:06.989896Z"
    },
    "papermill": {
     "duration": 6.082953,
     "end_time": "2025-07-24T06:54:06.993193",
     "exception": false,
     "start_time": "2025-07-24T06:54:00.910240",
     "status": "completed"
    },
    "tags": []
   },
   "outputs": [],
   "source": [
    "import torch\n",
    "import torch.nn as nn\n",
    "import torch.nn.functional as F\n",
    "from torch.utils.data import Dataset, DataLoader\n",
    "import numpy as np\n",
    "\n",
    "# Dataset with Gaussian noise as light augmentation\n",
    "class TabularDataset(Dataset):\n",
    "    def __init__(self, X):\n",
    "        self.X = X.astype(np.float32)\n",
    "        \n",
    "    def __len__(self):\n",
    "        return len(self.X)\n",
    "    \n",
    "    def __getitem__(self, idx):\n",
    "        x = self.X[idx]\n",
    "        # Light augmentation: small Gaussian noise\n",
    "        noise_std = 0.01\n",
    "        x1 = x + noise_std * np.random.randn(*x.shape).astype(np.float32)\n",
    "        x2 = x + noise_std * np.random.randn(*x.shape).astype(np.float32)\n",
    "        return x1, x2\n",
    "\n",
    "# Encoder with normalization and dropout to prevent feature domination\n",
    "class Encoder(nn.Module):\n",
    "    def __init__(self, input_dim, embedding_dim=64):\n",
    "        super().__init__()\n",
    "        self.net = nn.Sequential(\n",
    "            nn.Linear(input_dim, 128),\n",
    "            nn.ReLU(),\n",
    "            nn.Dropout(0.2),  # Prevent overfitting + domination\n",
    "            nn.Linear(128, embedding_dim),\n",
    "            nn.LayerNorm(embedding_dim)  # Normalize embeddings\n",
    "        )\n",
    "    \n",
    "    def forward(self, x):\n",
    "        return F.normalize(self.net(x), dim=1)  # L2 normalize embeddings\n",
    "\n",
    "# NT-Xent loss\n",
    "def nt_xent_loss(z1, z2, temperature=0.5):\n",
    "    batch_size = z1.size(0)\n",
    "    z = torch.cat([z1, z2], dim=0)\n",
    "    sim = torch.matmul(z, z.T) / temperature\n",
    "    sim_max, _ = sim.max(dim=1, keepdim=True)\n",
    "    sim = sim - sim_max.detach()  # stability\n",
    "\n",
    "    mask = torch.eye(2 * batch_size, dtype=torch.bool).to(z.device)\n",
    "    labels = torch.cat([torch.arange(batch_size) for _ in range(2)], dim=0).to(z.device)\n",
    "    labels = (labels.unsqueeze(0) == labels.unsqueeze(1)).float()\n",
    "    \n",
    "    sim = sim[~mask].view(2 * batch_size, -1)\n",
    "    labels = labels[~mask].view(2 * batch_size, -1)\n",
    "    \n",
    "    positives = sim[labels.bool()].view(2 * batch_size, -1)\n",
    "    negatives = sim[~labels.bool()].view(2 * batch_size, -1)\n",
    "    \n",
    "    logits = torch.cat([positives, negatives], dim=1)\n",
    "    targets = torch.zeros(logits.shape[0], dtype=torch.long).to(z.device)\n",
    "    \n",
    "    return F.cross_entropy(logits, targets)\n",
    "\n",
    "# Training loop\n",
    "def train_contrastive(model, dataloader, optimizer, epochs=10, device='cuda' if torch.cuda.is_available() else 'cpu'):\n",
    "    model.to(device)\n",
    "    model.train()\n",
    "    for epoch in range(epochs):\n",
    "        total_loss = 0\n",
    "        for x1, x2 in dataloader:\n",
    "            x1, x2 = x1.to(device), x2.to(device)\n",
    "            z1 = model(x1)\n",
    "            z2 = model(x2)\n",
    "            loss = nt_xent_loss(z1, z2)\n",
    "            optimizer.zero_grad()\n",
    "            loss.backward()\n",
    "            optimizer.step()\n",
    "            total_loss += loss.item()\n",
    "        print(f\"Epoch {epoch+1} - Loss: {total_loss/len(dataloader):.4f}\")"
   ]
  },
  {
   "cell_type": "code",
   "execution_count": 7,
   "id": "82242f1e",
   "metadata": {
    "execution": {
     "iopub.execute_input": "2025-07-24T06:54:07.001246Z",
     "iopub.status.busy": "2025-07-24T06:54:07.000544Z",
     "iopub.status.idle": "2025-07-24T07:33:12.042787Z",
     "shell.execute_reply": "2025-07-24T07:33:12.041168Z"
    },
    "papermill": {
     "duration": 2345.051544,
     "end_time": "2025-07-24T07:33:12.048016",
     "exception": false,
     "start_time": "2025-07-24T06:54:06.996472",
     "status": "completed"
    },
    "tags": []
   },
   "outputs": [
    {
     "name": "stdout",
     "output_type": "stream",
     "text": [
      "Epoch 1 - Loss: 4.5593\n",
      "Epoch 2 - Loss: 4.4825\n",
      "Epoch 3 - Loss: 4.4661\n",
      "Epoch 4 - Loss: 4.4542\n",
      "Epoch 5 - Loss: 4.4495\n",
      "Epoch 6 - Loss: 4.4451\n",
      "Epoch 7 - Loss: 4.4434\n",
      "Epoch 8 - Loss: 4.4425\n",
      "Epoch 9 - Loss: 4.4411\n",
      "Epoch 10 - Loss: 4.4396\n",
      "Epoch 11 - Loss: 4.4390\n",
      "Epoch 12 - Loss: 4.4387\n",
      "Epoch 13 - Loss: 4.4383\n",
      "Epoch 14 - Loss: 4.4375\n",
      "Epoch 15 - Loss: 4.4371\n",
      "Epoch 16 - Loss: 4.4366\n",
      "Epoch 17 - Loss: 4.4362\n",
      "Epoch 18 - Loss: 4.4357\n",
      "Epoch 19 - Loss: 4.4358\n",
      "Epoch 20 - Loss: 4.4354\n"
     ]
    }
   ],
   "source": [
    "import torch.optim as optim\n",
    "from torch.utils.data import DataLoader\n",
    "\n",
    "# Use cleaned and deduplicated feature dimensions\n",
    "input_dim = X_train.shape[1]\n",
    "embedding_dim = 64  # You can experiment with 32, 128 etc.\n",
    "\n",
    "# Create contrastive training dataset with light augmentations\n",
    "train_dataset = TabularDataset(X_train)\n",
    "train_loader = DataLoader(train_dataset, batch_size=256, shuffle=True, drop_last=True)\n",
    "\n",
    "# Initialize encoder model and optimizer\n",
    "model = Encoder(input_dim=input_dim, embedding_dim=embedding_dim)\n",
    "optimizer = optim.Adam(model.parameters(), lr=1e-3)\n",
    "\n",
    "# Train contrastive encoder\n",
    "device = 'cuda' if torch.cuda.is_available() else 'cpu'\n",
    "train_contrastive(model, train_loader, optimizer, epochs=20, device=device)\n"
   ]
  },
  {
   "cell_type": "code",
   "execution_count": 8,
   "id": "55519cd9",
   "metadata": {
    "execution": {
     "iopub.execute_input": "2025-07-24T07:33:12.060773Z",
     "iopub.status.busy": "2025-07-24T07:33:12.058229Z",
     "iopub.status.idle": "2025-07-24T07:33:18.830174Z",
     "shell.execute_reply": "2025-07-24T07:33:18.828838Z"
    },
    "papermill": {
     "duration": 6.779917,
     "end_time": "2025-07-24T07:33:18.832213",
     "exception": false,
     "start_time": "2025-07-24T07:33:12.052296",
     "status": "completed"
    },
    "tags": []
   },
   "outputs": [],
   "source": [
    "from torch.utils.data import DataLoader, TensorDataset\n",
    "\n",
    "def get_embeddings(model, X, device='cpu', batch_size=1024):\n",
    "    model.eval()\n",
    "    embeddings = []\n",
    "\n",
    "    dataset = TensorDataset(torch.tensor(X.astype(np.float32)))\n",
    "    loader = DataLoader(dataset, batch_size=batch_size)\n",
    "\n",
    "    with torch.no_grad():\n",
    "        for (batch,) in loader:\n",
    "            batch = batch.to(device)\n",
    "            emb = model(batch).cpu().numpy()\n",
    "            embeddings.append(emb)\n",
    "\n",
    "    return np.vstack(embeddings)\n",
    "\n",
    "device = 'cuda' if torch.cuda.is_available() else 'cpu'\n",
    "\n",
    "# Generate embeddings\n",
    "train_embeddings = get_embeddings(model, X_train, device)\n",
    "test_embeddings = get_embeddings(model, X_test, device)\n"
   ]
  },
  {
   "cell_type": "code",
   "execution_count": 9,
   "id": "191a7e0e",
   "metadata": {
    "execution": {
     "iopub.execute_input": "2025-07-24T07:33:18.844238Z",
     "iopub.status.busy": "2025-07-24T07:33:18.843872Z",
     "iopub.status.idle": "2025-07-24T07:34:21.120476Z",
     "shell.execute_reply": "2025-07-24T07:34:21.119140Z"
    },
    "papermill": {
     "duration": 62.284646,
     "end_time": "2025-07-24T07:34:21.122182",
     "exception": false,
     "start_time": "2025-07-24T07:33:18.837536",
     "status": "completed"
    },
    "tags": []
   },
   "outputs": [
    {
     "name": "stdout",
     "output_type": "stream",
     "text": [
      "Classes present after deduplication: [0 1 2 3 4 5 7 8]\n",
      "Corresponding class names: ['Benign' 'backdoor' 'ddos' 'dos' 'injection' 'mitm' 'ransomware'\n",
      " 'scanning']\n",
      "Training until validation scores don't improve for 50 rounds\n",
      "Early stopping, best iteration is:\n",
      "[22]\tvalid_0's multi_logloss: 0.324292\n",
      "Classification Report:\n",
      "               precision    recall  f1-score   support\n",
      "\n",
      "      Benign       0.94      0.96      0.95     39690\n",
      "    backdoor       0.98      0.99      0.98      3444\n",
      "        ddos       0.88      0.79      0.83     21229\n",
      "         dos       0.41      0.68      0.51      3004\n",
      "   injection       0.93      0.96      0.95     89127\n",
      "        mitm       0.17      0.17      0.17       159\n",
      "  ransomware       0.00      0.00      0.00        28\n",
      "    scanning       0.63      0.14      0.23      3822\n",
      "\n",
      "    accuracy                           0.91    160503\n",
      "   macro avg       0.62      0.59      0.58    160503\n",
      "weighted avg       0.91      0.91      0.91    160503\n",
      "\n",
      "Accuracy: 0.911727506650966\n"
     ]
    }
   ],
   "source": [
    "from lightgbm import LGBMClassifier, early_stopping, log_evaluation\n",
    "from sklearn.metrics import classification_report, accuracy_score\n",
    "import numpy as np\n",
    "\n",
    "# class_names from your label encoder (10 classes originally)\n",
    "class_names = le.classes_\n",
    "\n",
    "# Get unique classes actually present in y_train/y_test (after deduplication)\n",
    "unique_classes = np.unique(np.concatenate([y_train, y_test]))\n",
    "print(f\"Classes present after deduplication: {unique_classes}\")\n",
    "print(f\"Corresponding class names: {class_names[unique_classes]}\")\n",
    "\n",
    "# Initialize LightGBM for multiclass classification\n",
    "lgb_clf = LGBMClassifier(\n",
    "    objective='multiclass',\n",
    "    num_class=len(unique_classes),\n",
    "    n_estimators=1000,\n",
    "    boosting_type='gbdt',\n",
    "    random_state=42,\n",
    "    verbosity=-1\n",
    ")\n",
    "\n",
    "# Train with early stopping\n",
    "lgb_clf.fit(\n",
    "    train_embeddings, y_train,\n",
    "    eval_set=[(test_embeddings, y_test)],\n",
    "    callbacks=[\n",
    "        early_stopping(stopping_rounds=50),\n",
    "        log_evaluation(period=100)\n",
    "    ]\n",
    ")\n",
    "\n",
    "# Predict on test set\n",
    "y_pred = lgb_clf.predict(test_embeddings)\n",
    "\n",
    "# Evaluation - specify labels and target_names matching classes present\n",
    "print(\"Classification Report:\\n\",\n",
    "      classification_report(y_test, y_pred,\n",
    "                            labels=unique_classes,\n",
    "                            target_names=class_names[unique_classes]))\n",
    "print(\"Accuracy:\", accuracy_score(y_test, y_pred))\n"
   ]
  }
 ],
 "metadata": {
  "kaggle": {
   "accelerator": "none",
   "dataSources": [
    {
     "datasetId": 7615222,
     "sourceId": 12096605,
     "sourceType": "datasetVersion"
    }
   ],
   "dockerImageVersionId": 31040,
   "isGpuEnabled": false,
   "isInternetEnabled": true,
   "language": "python",
   "sourceType": "notebook"
  },
  "kernelspec": {
   "display_name": "Python 3",
   "language": "python",
   "name": "python3"
  },
  "language_info": {
   "codemirror_mode": {
    "name": "ipython",
    "version": 3
   },
   "file_extension": ".py",
   "mimetype": "text/x-python",
   "name": "python",
   "nbconvert_exporter": "python",
   "pygments_lexer": "ipython3",
   "version": "3.11.11"
  },
  "papermill": {
   "default_parameters": {},
   "duration": 2452.235315,
   "end_time": "2025-07-24T07:34:24.063911",
   "environment_variables": {},
   "exception": null,
   "input_path": "__notebook__.ipynb",
   "output_path": "__notebook__.ipynb",
   "parameters": {},
   "start_time": "2025-07-24T06:53:31.828596",
   "version": "2.6.0"
  }
 },
 "nbformat": 4,
 "nbformat_minor": 5
}
