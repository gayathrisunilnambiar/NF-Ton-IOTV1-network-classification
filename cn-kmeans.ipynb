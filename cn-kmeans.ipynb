{
 "cells": [
  {
   "cell_type": "code",
   "execution_count": 1,
   "id": "f0bc2392",
   "metadata": {
    "_cell_guid": "b1076dfc-b9ad-4769-8c92-a6c4dae69d19",
    "_uuid": "8f2839f25d086af736a60e9eeb907d3b93b6e0e5",
    "execution": {
     "iopub.execute_input": "2025-07-24T07:38:52.021132Z",
     "iopub.status.busy": "2025-07-24T07:38:52.020855Z",
     "iopub.status.idle": "2025-07-24T07:38:53.431072Z",
     "shell.execute_reply": "2025-07-24T07:38:53.430170Z"
    },
    "papermill": {
     "duration": 1.415078,
     "end_time": "2025-07-24T07:38:53.432459",
     "exception": false,
     "start_time": "2025-07-24T07:38:52.017381",
     "status": "completed"
    },
    "tags": []
   },
   "outputs": [
    {
     "name": "stdout",
     "output_type": "stream",
     "text": [
      "/kaggle/input/nf-ton-iotv1/NetFlow_v1_Features.csv\n",
      "/kaggle/input/nf-ton-iotv1/NF-ToN-IoT.csv\n"
     ]
    }
   ],
   "source": [
    "# This Python 3 environment comes with many helpful analytics libraries installed\n",
    "# It is defined by the kaggle/python Docker image: https://github.com/kaggle/docker-python\n",
    "# For example, here's several helpful packages to load\n",
    "\n",
    "import numpy as np # linear algebra\n",
    "import pandas as pd # data processing, CSV file I/O (e.g. pd.read_csv)\n",
    "\n",
    "# Input data files are available in the read-only \"../input/\" directory\n",
    "# For example, running this (by clicking run or pressing Shift+Enter) will list all files under the input directory\n",
    "\n",
    "import os\n",
    "for dirname, _, filenames in os.walk('/kaggle/input'):\n",
    "    for filename in filenames:\n",
    "        print(os.path.join(dirname, filename))\n",
    "\n",
    "# You can write up to 20GB to the current directory (/kaggle/working/) that gets preserved as output when you create a version using \"Save & Run All\" \n",
    "# You can also write temporary files to /kaggle/temp/, but they won't be saved outside of the current session"
   ]
  },
  {
   "cell_type": "code",
   "execution_count": 2,
   "id": "ed09fd04",
   "metadata": {
    "execution": {
     "iopub.execute_input": "2025-07-24T07:38:53.438502Z",
     "iopub.status.busy": "2025-07-24T07:38:53.438141Z",
     "iopub.status.idle": "2025-07-24T07:38:55.321499Z",
     "shell.execute_reply": "2025-07-24T07:38:55.320871Z"
    },
    "papermill": {
     "duration": 1.887706,
     "end_time": "2025-07-24T07:38:55.322826",
     "exception": false,
     "start_time": "2025-07-24T07:38:53.435120",
     "status": "completed"
    },
    "tags": []
   },
   "outputs": [],
   "source": [
    "import os\n",
    "import numpy as np\n",
    "import pandas as pd\n",
    "import matplotlib.pyplot as plt\n",
    "import seaborn as sns\n",
    "\n",
    "from sklearn.preprocessing import StandardScaler, LabelEncoder\n",
    "from sklearn.cluster import KMeans\n",
    "from sklearn.metrics import confusion_matrix, adjusted_rand_score, silhouette_score\n",
    "from sklearn.decomposition import PCA"
   ]
  },
  {
   "cell_type": "code",
   "execution_count": 3,
   "id": "3366cf12",
   "metadata": {
    "execution": {
     "iopub.execute_input": "2025-07-24T07:38:55.327542Z",
     "iopub.status.busy": "2025-07-24T07:38:55.327219Z",
     "iopub.status.idle": "2025-07-24T07:38:57.903281Z",
     "shell.execute_reply": "2025-07-24T07:38:57.902387Z"
    },
    "papermill": {
     "duration": 2.579633,
     "end_time": "2025-07-24T07:38:57.904473",
     "exception": false,
     "start_time": "2025-07-24T07:38:55.324840",
     "status": "completed"
    },
    "tags": []
   },
   "outputs": [
    {
     "name": "stdout",
     "output_type": "stream",
     "text": [
      "Dataset shape: (1379274, 14)\n"
     ]
    }
   ],
   "source": [
    "data_path = \"/kaggle/input/nf-ton-iotv1/NF-ToN-IoT.csv\"\n",
    "df = pd.read_csv(data_path, low_memory=False)\n",
    "print(f\"Dataset shape: {df.shape}\")"
   ]
  },
  {
   "cell_type": "code",
   "execution_count": 4,
   "id": "6aca4277",
   "metadata": {
    "execution": {
     "iopub.execute_input": "2025-07-24T07:38:57.909351Z",
     "iopub.status.busy": "2025-07-24T07:38:57.909127Z",
     "iopub.status.idle": "2025-07-24T07:38:57.974668Z",
     "shell.execute_reply": "2025-07-24T07:38:57.973797Z"
    },
    "papermill": {
     "duration": 0.069368,
     "end_time": "2025-07-24T07:38:57.976002",
     "exception": false,
     "start_time": "2025-07-24T07:38:57.906634",
     "status": "completed"
    },
    "tags": []
   },
   "outputs": [
    {
     "name": "stdout",
     "output_type": "stream",
     "text": [
      "Feature matrix shape: (1379274, 13)\n",
      "Label distribution:\n",
      "1    1108995\n",
      "0     270279\n",
      "Name: count, dtype: int64\n"
     ]
    }
   ],
   "source": [
    "label_col = 'Label'\n",
    "\n",
    "X = df.drop(columns=[label_col])\n",
    "y = df[label_col].values\n",
    "\n",
    "print(f\"Feature matrix shape: {X.shape}\")\n",
    "print(f\"Label distribution:\\n{pd.Series(y).value_counts()}\")"
   ]
  },
  {
   "cell_type": "code",
   "execution_count": 5,
   "id": "e38040eb",
   "metadata": {
    "execution": {
     "iopub.execute_input": "2025-07-24T07:38:57.981400Z",
     "iopub.status.busy": "2025-07-24T07:38:57.980834Z",
     "iopub.status.idle": "2025-07-24T07:38:59.526765Z",
     "shell.execute_reply": "2025-07-24T07:38:59.526139Z"
    },
    "papermill": {
     "duration": 1.550006,
     "end_time": "2025-07-24T07:38:59.528202",
     "exception": false,
     "start_time": "2025-07-24T07:38:57.978196",
     "status": "completed"
    },
    "tags": []
   },
   "outputs": [],
   "source": [
    "# Drop IP columns before encoding\n",
    "X = X.drop(columns=['IPV4_SRC_ADDR', 'IPV4_DST_ADDR'])  # replace with actual IP column names if different\n",
    "\n",
    "categorical_cols = X.select_dtypes(include=['object']).columns.tolist()\n",
    "X_encoded = pd.get_dummies(X, columns=categorical_cols)\n",
    "\n",
    "scaler = StandardScaler()\n",
    "X_scaled = scaler.fit_transform(X_encoded)\n"
   ]
  },
  {
   "cell_type": "code",
   "execution_count": 6,
   "id": "b9844d0b",
   "metadata": {
    "execution": {
     "iopub.execute_input": "2025-07-24T07:38:59.533001Z",
     "iopub.status.busy": "2025-07-24T07:38:59.532786Z",
     "iopub.status.idle": "2025-07-24T07:38:59.559532Z",
     "shell.execute_reply": "2025-07-24T07:38:59.558899Z"
    },
    "papermill": {
     "duration": 0.030585,
     "end_time": "2025-07-24T07:38:59.560910",
     "exception": false,
     "start_time": "2025-07-24T07:38:59.530325",
     "status": "completed"
    },
    "tags": []
   },
   "outputs": [],
   "source": [
    "le = LabelEncoder()\n",
    "y_encoded = le.fit_transform(y)"
   ]
  },
  {
   "cell_type": "code",
   "execution_count": 7,
   "id": "9453d840",
   "metadata": {
    "execution": {
     "iopub.execute_input": "2025-07-24T07:38:59.565817Z",
     "iopub.status.busy": "2025-07-24T07:38:59.565577Z",
     "iopub.status.idle": "2025-07-24T07:39:04.534702Z",
     "shell.execute_reply": "2025-07-24T07:39:04.533801Z"
    },
    "papermill": {
     "duration": 4.973058,
     "end_time": "2025-07-24T07:39:04.536150",
     "exception": false,
     "start_time": "2025-07-24T07:38:59.563092",
     "status": "completed"
    },
    "tags": []
   },
   "outputs": [
    {
     "name": "stdout",
     "output_type": "stream",
     "text": [
      "Adjusted Rand Index (ARI): 0.9320\n",
      "Purity Score: 0.9853\n",
      "Silhouette Score (sampled 5000): 0.3734\n"
     ]
    }
   ],
   "source": [
    "from sklearn.decomposition import PCA\n",
    "from sklearn.metrics import silhouette_score\n",
    "\n",
    "n_comp = min(20, X_scaled.shape[0], X_scaled.shape[1])\n",
    "pca = PCA(n_components=n_comp, random_state=42)\n",
    "X_pca = pca.fit_transform(X_scaled)\n",
    "\n",
    "k = 2\n",
    "kmeans = KMeans(n_clusters=k, random_state=42, n_init=10)\n",
    "cluster_labels = kmeans.fit_predict(X_pca)\n",
    "\n",
    "def evaluate_clustering_fast(y_true, cluster_labels, X_data):\n",
    "    contingency = confusion_matrix(y_true, cluster_labels)\n",
    "    purity = np.sum(np.max(contingency, axis=0)) / np.sum(contingency)\n",
    "    ari = adjusted_rand_score(y_true, cluster_labels)\n",
    "    print(f\"Adjusted Rand Index (ARI): {ari:.4f}\")\n",
    "    print(f\"Purity Score: {purity:.4f}\")\n",
    "    \n",
    "    sample_size = min(5000, len(X_data))\n",
    "    sample_idx = np.random.choice(len(X_data), sample_size, replace=False)\n",
    "    sil_score = silhouette_score(X_data[sample_idx], cluster_labels[sample_idx])\n",
    "    print(f\"Silhouette Score (sampled {sample_size}): {sil_score:.4f}\")\n",
    "\n",
    "evaluate_clustering_fast(y_encoded, cluster_labels, X_pca)\n"
   ]
  },
  {
   "cell_type": "code",
   "execution_count": 8,
   "id": "45b9d015",
   "metadata": {
    "execution": {
     "iopub.execute_input": "2025-07-24T07:39:04.541360Z",
     "iopub.status.busy": "2025-07-24T07:39:04.541126Z",
     "iopub.status.idle": "2025-07-24T07:39:42.412111Z",
     "shell.execute_reply": "2025-07-24T07:39:42.411358Z"
    },
    "papermill": {
     "duration": 37.877612,
     "end_time": "2025-07-24T07:39:42.416143",
     "exception": false,
     "start_time": "2025-07-24T07:39:04.538531",
     "status": "completed"
    },
    "tags": []
   },
   "outputs": [
    {
     "data": {
      "image/png": "[encoded data removed]",
      "text/plain": [
       "<Figure size 1000x700 with 1 Axes>"
      ]
     },
     "metadata": {},
     "output_type": "display_data"
    }
   ],
   "source": [
    "import matplotlib.pyplot as plt\n",
    "import seaborn as sns\n",
    "from sklearn.decomposition import PCA\n",
    "\n",
    "pca_2d = PCA(n_components=2, random_state=42)\n",
    "X_vis = pca_2d.fit_transform(X_scaled)\n",
    "\n",
    "plt.figure(figsize=(10, 7))\n",
    "sns.scatterplot(x=X_vis[:, 0], y=X_vis[:, 1], hue=cluster_labels, palette='tab10', legend='full', s=60)\n",
    "plt.title('KMeans Clusters Visualized with PCA (2D)')\n",
    "plt.xlabel('Principal Component 1')\n",
    "plt.ylabel('Principal Component 2')\n",
    "plt.show()"
   ]
  }
 ],
 "metadata": {
  "kaggle": {
   "accelerator": "gpu",
   "dataSources": [
    {
     "datasetId": 7615222,
     "sourceId": 12096605,
     "sourceType": "datasetVersion"
    }
   ],
   "dockerImageVersionId": 31041,
   "isGpuEnabled": true,
   "isInternetEnabled": true,
   "language": "python",
   "sourceType": "notebook"
  },
  "kernelspec": {
   "display_name": "Python 3",
   "language": "python",
   "name": "python3"
  },
  "language_info": {
   "codemirror_mode": {
    "name": "ipython",
    "version": 3
   },
   "file_extension": ".py",
   "mimetype": "text/x-python",
   "name": "python",
   "nbconvert_exporter": "python",
   "pygments_lexer": "ipython3",
   "version": "3.11.11"
  },
  "papermill": {
   "default_parameters": {},
   "duration": 54.945419,
   "end_time": "2025-07-24T07:39:42.935931",
   "environment_variables": {},
   "exception": null,
   "input_path": "__notebook__.ipynb",
   "output_path": "__notebook__.ipynb",
   "parameters": {},
   "start_time": "2025-07-24T07:38:47.990512",
   "version": "2.6.0"
  }
 },
 "nbformat": 4,
 "nbformat_minor": 5
}
